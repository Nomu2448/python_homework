{
 "cells": [
  {
   "cell_type": "code",
   "execution_count": null,
   "id": "d43a2d37-cd35-4554-a70b-b5f32346c81e",
   "metadata": {},
   "outputs": [],
   "source": [
    "lt = [6, 9, 3, 7, 0]"
   ]
  },
  {
   "cell_type": "code",
   "execution_count": null,
   "id": "d5b09d31-0aeb-4252-9547-e8ad60dc1b2b",
   "metadata": {},
   "outputs": [],
   "source": [
    "pivot = lt[0]\n",
    "left = [i for i in lt if i < pivot]\n",
    "right = [3]"
   ]
  }
 ],
 "metadata": {
  "kernelspec": {
   "display_name": "Python 3 (ipykernel)",
   "language": "python",
   "name": "python3"
  },
  "language_info": {
   "codemirror_mode": {
    "name": "ipython",
    "version": 3
   },
   "file_extension": ".py",
   "mimetype": "text/x-python",
   "name": "python",
   "nbconvert_exporter": "python",
   "pygments_lexer": "ipython3",
   "version": "3.13.0"
  }
 },
 "nbformat": 4,
 "nbformat_minor": 5
}
