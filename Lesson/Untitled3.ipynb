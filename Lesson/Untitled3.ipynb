{
 "cells": [
  {
   "cell_type": "code",
   "execution_count": 70,
   "id": "f3880ff4-438f-417b-9128-f2663fdba09a",
   "metadata": {},
   "outputs": [],
   "source": [
    "class Calculator():\n",
    "    def __init__(self):\n",
    "        pass\n",
    "        \n",
    "    def add(self, x, y):\n",
    "        return x + y\n",
    "\n",
    "    def sub(self, x, y):\n",
    "        return x - y\n",
    "        \n",
    "    def div(self, x, y):\n",
    "        return x / y\n",
    "\n",
    "    def mul(self, x, y):\n",
    "        return x * y\n",
    "        "
   ]
  },
  {
   "cell_type": "code",
   "execution_count": 75,
   "id": "1ed86591-20fa-4d8c-aea3-332b353c3ecc",
   "metadata": {},
   "outputs": [],
   "source": [
    "class ScienceCal(Calculator):\n",
    "    def __init__(self):\n",
    "        pass\n",
    "    def sqrt(x):\n",
    "        return x**(1/2)"
   ]
  },
  {
   "cell_type": "code",
   "execution_count": 76,
   "id": "c0125bda-c414-430f-9aee-cee98aaa4b7a",
   "metadata": {},
   "outputs": [],
   "source": [
    "ori_cal = Calculator()\n",
    "new_cal = ScienceCal()"
   ]
  },
  {
   "cell_type": "code",
   "execution_count": 77,
   "id": "ae626aba-8661-48f4-a65d-e0dd4062411b",
   "metadata": {},
   "outputs": [
    {
     "data": {
      "text/plain": [
       "3"
      ]
     },
     "execution_count": 77,
     "metadata": {},
     "output_type": "execute_result"
    }
   ],
   "source": [
    "ori_cal.add(1, 2)"
   ]
  },
  {
   "cell_type": "code",
   "execution_count": 82,
   "id": "3dfd1278-94d0-41b4-8267-deff2d844d61",
   "metadata": {},
   "outputs": [
    {
     "data": {
      "text/plain": [
       "3"
      ]
     },
     "execution_count": 82,
     "metadata": {},
     "output_type": "execute_result"
    }
   ],
   "source": [
    "new_cal.add(1, 2)"
   ]
  },
  {
   "cell_type": "code",
   "execution_count": null,
   "id": "44cded1c-8081-43d2-8c3d-56667885af33",
   "metadata": {},
   "outputs": [],
   "source": [
    "\n",
    "\n",
    "\n",
    "\n",
    "\n",
    "\n",
    "\n",
    "\n",
    "\n",
    "\n",
    "\n",
    "\n",
    "\n",
    "\n",
    "\n",
    "\n",
    "\n",
    "\n",
    "\n",
    "\n",
    "\n",
    "\n",
    "\n",
    "\n",
    "\n",
    "\n",
    "\n",
    "\n",
    "\n",
    "\n",
    "\n",
    "\n",
    "\n",
    "\n",
    "\n",
    "\n",
    "\n",
    "\n",
    "\n",
    "\n",
    "\n",
    "\n",
    "\n",
    "\n",
    "\n",
    "\n",
    "\n",
    "\n",
    "\n",
    "\n",
    "\n",
    "\n",
    "\n",
    "\n",
    "\n",
    "\n",
    "\n",
    "\n",
    "\n",
    "\n",
    "\n",
    "\n",
    "\n",
    "\n",
    "\n",
    "\n",
    "\n",
    "\n",
    "\n",
    "\n",
    "\n",
    "\n",
    "\n",
    "\n",
    "\n",
    "\n"
   ]
  }
 ],
 "metadata": {
  "kernelspec": {
   "display_name": "Python 3 (ipykernel)",
   "language": "python",
   "name": "python3"
  },
  "language_info": {
   "codemirror_mode": {
    "name": "ipython",
    "version": 3
   },
   "file_extension": ".py",
   "mimetype": "text/x-python",
   "name": "python",
   "nbconvert_exporter": "python",
   "pygments_lexer": "ipython3",
   "version": "3.13.0"
  }
 },
 "nbformat": 4,
 "nbformat_minor": 5
}
