{
 "cells": [
  {
   "cell_type": "code",
   "execution_count": 11,
   "id": "ba9a2792-117a-4144-aa69-081842df7784",
   "metadata": {},
   "outputs": [],
   "source": [
    "class MyDog():\n",
    "    def __init__(self, gene, name, age, sex, color):\n",
    "        self.gene = gene\n",
    "        self.name = name\n",
    "        self.age = age\n",
    "        self.sex = sex\n",
    "        self.color = color\n",
    "    def sleep(self):\n",
    "        print(\"{} ZZZ !\".format(self.name))\n",
    "        \n",
    "    def walk(self):\n",
    "        print(\"{} Walking Around\".format(self.name))\n",
    "        \n",
    "    def eat(self):\n",
    "        print(\"{} Yummy\".format(self.name))\n",
    "        "
   ]
  },
  {
   "cell_type": "code",
   "execution_count": 12,
   "id": "652c8128-c12d-4592-b2d9-7cff5f1beda8",
   "metadata": {},
   "outputs": [],
   "source": [
    "#instance variable\n",
    "dog_golden = MyDog('Golden','title', 1, 'male', 'gold')\n",
    "bulldog = MyDog('BullDog', 'ton', 2, 'male', 'brown')"
   ]
  },
  {
   "cell_type": "code",
   "execution_count": 13,
   "id": "79c0db5d-6381-47de-9d74-7cffe954bafe",
   "metadata": {},
   "outputs": [
    {
     "ename": "NameError",
     "evalue": "name 'golden' is not defined",
     "output_type": "error",
     "traceback": [
      "\u001b[1;31m---------------------------------------------------------------------------\u001b[0m",
      "\u001b[1;31mNameError\u001b[0m                                 Traceback (most recent call last)",
      "Cell \u001b[1;32mIn[13], line 1\u001b[0m\n\u001b[1;32m----> 1\u001b[0m \u001b[43mgolden\u001b[49m\u001b[38;5;241m.\u001b[39mwalk()\n\u001b[0;32m      2\u001b[0m bulldog\u001b[38;5;241m.\u001b[39mwalk()\n",
      "\u001b[1;31mNameError\u001b[0m: name 'golden' is not defined"
     ]
    }
   ],
   "source": [
    "golden.walk()\n",
    "bulldog.walk()"
   ]
  },
  {
   "cell_type": "code",
   "execution_count": null,
   "id": "7cf90fbd-18ec-4c51-9f2e-f1d4a3c61727",
   "metadata": {},
   "outputs": [],
   "source": []
  }
 ],
 "metadata": {
  "kernelspec": {
   "display_name": "Python 3 (ipykernel)",
   "language": "python",
   "name": "python3"
  },
  "language_info": {
   "codemirror_mode": {
    "name": "ipython",
    "version": 3
   },
   "file_extension": ".py",
   "mimetype": "text/x-python",
   "name": "python",
   "nbconvert_exporter": "python",
   "pygments_lexer": "ipython3",
   "version": "3.13.0"
  }
 },
 "nbformat": 4,
 "nbformat_minor": 5
}
