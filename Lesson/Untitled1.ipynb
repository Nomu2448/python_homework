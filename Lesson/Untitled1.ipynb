{
 "cells": [
  {
   "cell_type": "code",
   "execution_count": 29,
   "id": "d43a2d37-cd35-4554-a70b-b5f32346c81e",
   "metadata": {},
   "outputs": [],
   "source": [
    "lt = [6, 9, 3, 7, 0, 1, 5, 2, 8]"
   ]
  },
  {
   "cell_type": "code",
   "execution_count": 30,
   "id": "d5b09d31-0aeb-4252-9547-e8ad60dc1b2b",
   "metadata": {},
   "outputs": [
    {
     "name": "stdout",
     "output_type": "stream",
     "text": [
      "[3, 0, 1, 5, 2] 6 [9, 7, 8]\n"
     ]
    }
   ],
   "source": [
    "pivot = lt[0]\n",
    "left = [i for i in lt if i < pivot]\n",
    "right = [i for i in lt if i > pivot]\n",
    "\n",
    "print(\"{} {} {}\".format(left, pivot, right))"
   ]
  },
  {
   "cell_type": "code",
   "execution_count": 31,
   "id": "d2a83e15-1355-40cf-a6cc-f65e6fafc7e9",
   "metadata": {},
   "outputs": [
    {
     "name": "stdout",
     "output_type": "stream",
     "text": [
      "[3, 0, 1, 5, 2] 9 []\n"
     ]
    }
   ],
   "source": [
    "pivot_left_2 = right[0]\n",
    "left_left_2 = [i for i in left if i < pivot_left_2]\n",
    "right_left_2 = [i for i in left if i > pivot_left_2]\n",
    "\n",
    "print(\"{} {} {}\".format(left_left_2, pivot_left_2, right_left_2))"
   ]
  },
  {
   "cell_type": "code",
   "execution_count": 32,
   "id": "a1802608-044f-4e88-98cb-760601d3093c",
   "metadata": {},
   "outputs": [
    {
     "name": "stdout",
     "output_type": "stream",
     "text": [
      "[7, 8] 9 []\n"
     ]
    }
   ],
   "source": [
    "pivot_right_2 = right[0]\n",
    "left_right_2 = [i for i in right if i < pivot_right_2]\n",
    "right_right_2 = [i for i in right if i > pivot_right_2]\n",
    "\n",
    "print(\"{} {} {}\".format(left_right_2, pivot_right_2, right_right_2))"
   ]
  },
  {
   "cell_type": "code",
   "execution_count": 33,
   "id": "fa63ad17-9c4f-44b7-a3af-0b7e01343a7b",
   "metadata": {},
   "outputs": [
    {
     "data": {
      "text/plain": [
       "[3, 0, 1, 5, 2, 9, 6, 7, 8, 9]"
      ]
     },
     "execution_count": 33,
     "metadata": {},
     "output_type": "execute_result"
    }
   ],
   "source": [
    "left_left_2 + \\\n",
    "[pivot_left_2] + \\\n",
    "right_left_2 + \\\n",
    "[pivot] + \\\n",
    "left_right_2 + \\\n",
    "[pivot_right_2] + \\\n",
    "right_right_2"
   ]
  },
  {
   "cell_type": "code",
   "execution_count": null,
   "id": "2c397b64-51e2-4420-a526-d1bcacf9a55f",
   "metadata": {},
   "outputs": [],
   "source": []
  }
 ],
 "metadata": {
  "kernelspec": {
   "display_name": "Python 3 (ipykernel)",
   "language": "python",
   "name": "python3"
  },
  "language_info": {
   "codemirror_mode": {
    "name": "ipython",
    "version": 3
   },
   "file_extension": ".py",
   "mimetype": "text/x-python",
   "name": "python",
   "nbconvert_exporter": "python",
   "pygments_lexer": "ipython3",
   "version": "3.13.0"
  }
 },
 "nbformat": 4,
 "nbformat_minor": 5
}
