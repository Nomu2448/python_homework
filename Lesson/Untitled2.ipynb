{
 "cells": [
  {
   "cell_type": "code",
   "execution_count": 95,
   "id": "2d5d4818-49a1-44cf-acbc-0f724f08bdb2",
   "metadata": {},
   "outputs": [],
   "source": [
    "class Cat():\n",
    "    def __init__(self, name):\n",
    "        self.name = name\n",
    "        \n",
    "    def eat(self):\n",
    "        print(\"{} is eating\".format(self.name))\n",
    "        \n",
    "    def sleep(self):\n",
    "        print(\"{} is sleeping\".format(self.name))\n",
    "        \n"
   ]
  },
  {
   "cell_type": "code",
   "execution_count": 97,
   "id": "07fe206f-6110-4673-80ec-d2163ab9e6bf",
   "metadata": {},
   "outputs": [],
   "source": [
    "cat = Cat(\"Konua\")"
   ]
  },
  {
   "cell_type": "code",
   "execution_count": 98,
   "id": "2d660ac4-9832-439c-8345-035d91f9845a",
   "metadata": {},
   "outputs": [
    {
     "name": "stdout",
     "output_type": "stream",
     "text": [
      "Konua is eating\n"
     ]
    }
   ],
   "source": [
    "cat.eat()"
   ]
  },
  {
   "cell_type": "code",
   "execution_count": 99,
   "id": "24203a96-048b-47b8-8774-8cbcbc751825",
   "metadata": {},
   "outputs": [
    {
     "name": "stdout",
     "output_type": "stream",
     "text": [
      "Konua is sleeping\n"
     ]
    }
   ],
   "source": [
    "cat.sleep()"
   ]
  },
  {
   "cell_type": "code",
   "execution_count": 100,
   "id": "4cef282e-658c-467f-899b-3b5cfd362990",
   "metadata": {},
   "outputs": [
    {
     "data": {
      "text/plain": [
       "'Konua'"
      ]
     },
     "execution_count": 100,
     "metadata": {},
     "output_type": "execute_result"
    }
   ],
   "source": [
    "cat.name"
   ]
  },
  {
   "cell_type": "code",
   "execution_count": 101,
   "id": "136a4ef6-ff8f-4ab2-ab85-6f79fdf8b4a8",
   "metadata": {},
   "outputs": [],
   "source": [
    "class Student():\n",
    "    def __init__(self, name, stid, age):\n",
    "        self.__name = name\n",
    "        self.__stid = stid\n",
    "        self.__age = age\n",
    "\n",
    "    def setAge(self, new_age):\n",
    "        if new_age > self.__age:\n",
    "            self.__age = new_age\n",
    "        else:\n",
    "            print(\"Error\")\n",
    "    def studentInfo(self):\n",
    "        print(\"{} : {} , age {}.\".format(self.__stid, self.__name, self.__age))\n",
    "        "
   ]
  },
  {
   "cell_type": "code",
   "execution_count": 102,
   "id": "4fb33203-cf00-4234-96a1-4f8f68d23c95",
   "metadata": {},
   "outputs": [],
   "source": [
    "non = Student('Non', '6712732108', 19)"
   ]
  },
  {
   "cell_type": "code",
   "execution_count": 103,
   "id": "85bfc1ae-6a93-41cd-a38e-b478d63bcd44",
   "metadata": {},
   "outputs": [
    {
     "name": "stdout",
     "output_type": "stream",
     "text": [
      "6712732108 : Non , age 19.\n"
     ]
    }
   ],
   "source": [
    "non.studentInfo()"
   ]
  },
  {
   "cell_type": "code",
   "execution_count": null,
   "id": "4f65f815-402a-45f7-a541-40af74bd2f83",
   "metadata": {},
   "outputs": [],
   "source": [
    "\n"
   ]
  }
 ],
 "metadata": {
  "kernelspec": {
   "display_name": "Python 3 (ipykernel)",
   "language": "python",
   "name": "python3"
  },
  "language_info": {
   "codemirror_mode": {
    "name": "ipython",
    "version": 3
   },
   "file_extension": ".py",
   "mimetype": "text/x-python",
   "name": "python",
   "nbconvert_exporter": "python",
   "pygments_lexer": "ipython3",
   "version": "3.13.0"
  }
 },
 "nbformat": 4,
 "nbformat_minor": 5
}
