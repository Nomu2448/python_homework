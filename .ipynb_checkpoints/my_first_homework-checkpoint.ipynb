{
 "cells": [
  {
   "cell_type": "markdown",
   "id": "54944860-a76f-4b44-82d4-9d7ad1b1d458",
   "metadata": {},
   "source": [
    "นายนนทพัทธ์ นะทีศรี\n",
    "\n",
    "รหัส 6712732108"
   ]
  },
  {
   "cell_type": "code",
   "execution_count": null,
   "id": "4e3f0b96-8c88-412f-af78-9f4b27a64f33",
   "metadata": {},
   "outputs": [],
   "source": []
  }
 ],
 "metadata": {
  "kernelspec": {
   "display_name": "Python 3 (ipykernel)",
   "language": "python",
   "name": "python3"
  },
  "language_info": {
   "codemirror_mode": {
    "name": "ipython",
    "version": 3
   },
   "file_extension": ".py",
   "mimetype": "text/x-python",
   "name": "python",
   "nbconvert_exporter": "python",
   "pygments_lexer": "ipython3",
   "version": "3.13.0"
  }
 },
 "nbformat": 4,
 "nbformat_minor": 5
}
