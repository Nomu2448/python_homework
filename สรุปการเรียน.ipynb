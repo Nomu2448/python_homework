{
 "cells": [
  {
   "cell_type": "code",
   "execution_count": null,
   "id": "c03885b6-02a0-4c58-860e-ee2806484361",
   "metadata": {},
   "outputs": [],
   "source": [
    "score = int(input(\"Enter your score : \"))\n",
    "if score >= 80:\n",
    "    print(\"Grade A\")\n",
    "elif score >= 70:\n",
    "    print(\"Grade B\")\n",
    "elif score >= 60:\n",
    "    print(\"Grade C\")\n",
    "elif score >= 50:\n",
    "    print(\"Grade D\")\n",
    "else:\n",
    "    print(\"Grade E\")\n",
    "#สรุปการเรื่องการใส่คะแนน"
   ]
  },
  {
   "cell_type": "code",
   "execution_count": null,
   "id": "40141ba6-bf5e-4582-8ad4-63b70b6cd7a6",
   "metadata": {},
   "outputs": [],
   "source": []
  }
 ],
 "metadata": {
  "kernelspec": {
   "display_name": "Python 3 (ipykernel)",
   "language": "python",
   "name": "python3"
  },
  "language_info": {
   "codemirror_mode": {
    "name": "ipython",
    "version": 3
   },
   "file_extension": ".py",
   "mimetype": "text/x-python",
   "name": "python",
   "nbconvert_exporter": "python",
   "pygments_lexer": "ipython3",
   "version": "3.13.0"
  }
 },
 "nbformat": 4,
 "nbformat_minor": 5
}
